{
 "cells": [
  {
   "cell_type": "markdown",
   "id": "5438ed6c",
   "metadata": {},
   "source": [
    "###### Imports and Settings\n",
    "\n",
    "UPDATED 10/14/2024 THROUGH SEPTEMBER 2024"
   ]
  },
  {
   "cell_type": "code",
   "execution_count": 2,
   "id": "3b4d1146",
   "metadata": {},
   "outputs": [],
   "source": [
    "import pandas as pd\n",
    "import numpy as np\n",
    "import requests\n",
    "from functools import reduce\n",
    "import matplotlib.pyplot as plt\n",
    "pd.set_option('display.max_columns', None)\n",
    "pd.set_option('display.max_rows', None)\n",
    "pd.set_option('display.width', 150)\n",
    "from warnings import simplefilter\n",
    "simplefilter(action=\"ignore\", category=pd.errors.PerformanceWarning)\n",
    "import sys\n",
    "sys.path.append(\"../../Functions and Dictionaries/\") # Adds higher directory to python modules path\n",
    "import geodict\n",
    "tofullcensus = geodict.tofullcensus\n",
    "geotogeoid = geodict.geotogeoid\n",
    "import sqlite3 as sq"
   ]
  },
  {
   "cell_type": "code",
   "execution_count": 3,
   "id": "d0074d40",
   "metadata": {},
   "outputs": [],
   "source": [
    "#functions\n",
    "def percent(x, y):\n",
    "        try:\n",
    "            return ((x/y)*100)\n",
    "        except ZeroDivisionError:\n",
    "            return 0\n",
    "def percentchange(x, y):\n",
    "    try:\n",
    "        return ((x - y)*100/y)\n",
    "    except ZeroDivisionError:\n",
    "        return 0\n",
    "def realchange(x, y):\n",
    "    return x-y\n",
    "#calculate real and percent change between all columns for all possible time frames\n",
    "def calculate_changes(df, columns, time_frames, years):\n",
    "    for column in columns:\n",
    "        for time_frame in time_frames:\n",
    "            start_year, end_year = time_frame.split('-')\n",
    "            df[f'{column} % Change', 'None', f'{time_frame}'] = percentchange(df[(column, int(end_year), 'None')], df[(column, int(start_year), 'None')])\n",
    "            df[f'{column} Change', 'None', f'{time_frame}'] = (df[(column, int(end_year), 'None')] - df[(column, int(start_year), 'None')])\n",
    "\n",
    "    return df\n",
    "#generate all possible time frames from a list of years\n",
    "def generate_time_frames(years):\n",
    "    time_frames = []\n",
    "    for i in range(len(years)-1):\n",
    "        for j in range(i+1, len(years)):\n",
    "            time_frames.append(f\"{years[i]}-{years[j]}\")\n",
    "    return time_frames"
   ]
  },
  {
   "cell_type": "markdown",
   "id": "a526d578",
   "metadata": {},
   "source": [
    "# This notebook outlines the download and formatting process for the Zillow Observed Rent Index for counties and places in the GNRC operating region.  \n",
    "\n",
    "Go to this page: https://www.zillow.com/research/data/  \n",
    "\n",
    "+ Under \"RENTALS\", select Data Type \"ZORI (Smoothed, Seasonally Adjusted): All Homes Plus Multifamily Time Series\" and download this for Metro & US, County, and City (State is not currently available).   \n",
    "\n",
    "### Save these csvs as they come in the Data Downloads folder"
   ]
  },
  {
   "cell_type": "code",
   "execution_count": 5,
   "id": "16d59136",
   "metadata": {},
   "outputs": [],
   "source": [
    "rental_metrous = pd.read_csv('../Data Downloads/Zillow_MetroUS_ZORI.csv')\n",
    "rental_county = pd.read_csv('../Data Downloads/Zillow_County_ZORI.csv')\n",
    "rental_place = pd.read_csv('../Data Downloads/Zillow_City_ZORI.csv')"
   ]
  },
  {
   "cell_type": "markdown",
   "id": "b8a84032",
   "metadata": {},
   "source": [
    "The county codes are not FIPS codes, unsure what they are but our region contains the following:\n",
    "Cheatham:2185, Davidson:2243, Dickson:1668 , Houston:1784, Humphreys:2728, Macon:623, Maury:632, Montgomery:2982, Robertson:2834, Rutherford:3016, Sumner:1407, Stewart:2044, Trousdale:2856, Williamson:3080, Wilson:1496, (KY) Allen:369 , (KY) Simpson:2028"
   ]
  },
  {
   "cell_type": "code",
   "execution_count": 6,
   "id": "cd99644f",
   "metadata": {},
   "outputs": [],
   "source": [
    "#filter down the metro and us files to include only the US and the Nashville and Clarksville MSAs\n",
    "metrous = [102001, 394902, 394471]\n",
    "rental_metrous = rental_metrous.loc[rental_metrous['RegionID'].isin(metrous)].reset_index(drop = True)\n",
    "#filter the county files, Simpson Co KY is RegionID 2028, but doesn't have associated data until recent years so not including for now\n",
    "counties = [2185, 2243, 1668, 1784, 2728, 623, 632, 2982, 2834, 3016, 1407, 2044, 2856, 3080, 1496, 369]\n",
    "rental_county = rental_county.loc[rental_county['RegionID'].isin(counties)].reset_index(drop = True)\n",
    "#filter the place files\n",
    "places = [41932, 30583, 10843, 30993, 49233, 45339, 11564, 32006, 46091, 25534, 42878, 39894, 19523, 6118, 26161, 54450, 7208, 27227, 29482, 41690]\n",
    "rental_place = rental_place.loc[rental_place['RegionID'].isin(places)].reset_index(drop = True)"
   ]
  },
  {
   "cell_type": "code",
   "execution_count": 7,
   "id": "fb9ec1bd",
   "metadata": {},
   "outputs": [],
   "source": [
    "rental_place = rental_place.drop(columns = ['RegionID', 'SizeRank', 'RegionType', 'StateName', 'State', 'Metro', 'CountyName']).set_index(('RegionName'))\n",
    "rental_county= rental_county.drop(columns = ['RegionID', 'SizeRank', 'RegionType', 'StateName', 'State', 'Metro', 'StateCodeFIPS', 'MunicipalCodeFIPS']).set_index(('RegionName'))\n",
    "rental_metrous = rental_metrous.drop(columns = ['RegionID', 'SizeRank', 'RegionType', 'StateName']).set_index(('RegionName'))"
   ]
  },
  {
   "cell_type": "code",
   "execution_count": 8,
   "id": "3a18885d",
   "metadata": {},
   "outputs": [],
   "source": [
    "#append the home value dataframes\n",
    "frame = [rental_place, rental_county, rental_metrous]\n",
    "emptyframe = pd.DataFrame()\n",
    "for df in frame:\n",
    "    emptyframe = pd.concat([emptyframe, df])  \n",
    "rental = emptyframe"
   ]
  },
  {
   "cell_type": "code",
   "execution_count": 9,
   "id": "5e3046b5",
   "metadata": {},
   "outputs": [],
   "source": [
    "#transpose and rename the index to NAME\n",
    "data = rental.transpose().reset_index().rename(columns = {'index':'NAME'})"
   ]
  },
  {
   "cell_type": "code",
   "execution_count": 10,
   "id": "5ce414f8",
   "metadata": {},
   "outputs": [],
   "source": [
    "#adjust the geo names using str.split and index into the correct year\n",
    "year = data['NAME'].str.split(pat = \"/\", expand = True)\n",
    "data['Year'] = year[2]\n",
    "data.drop(columns = 'NAME', inplace = True)"
   ]
  },
  {
   "cell_type": "code",
   "execution_count": 11,
   "id": "7f09d845",
   "metadata": {},
   "outputs": [],
   "source": [
    "#rename using module\n",
    "data = data.rename(columns = tofullcensus)"
   ]
  },
  {
   "cell_type": "code",
   "execution_count": 12,
   "id": "27ed119f",
   "metadata": {},
   "outputs": [],
   "source": [
    "#group by the average of the year, transpose, make the column a region name, then go from wide to long with .melt()\n",
    "data = data.groupby(['Year']).mean()\n",
    "data = data.transpose().reset_index()\n",
    "data = data.rename(columns = {'RegionName':'NAME'})\n",
    "data = data.set_index('NAME')\n",
    "data = data.melt(value_name = 'Average Rent', ignore_index = False)\n",
    "data = data.reset_index()"
   ]
  },
  {
   "cell_type": "code",
   "execution_count": 13,
   "id": "ae28ba43",
   "metadata": {},
   "outputs": [],
   "source": [
    "#make sure year is formatted as an integer\n",
    "data['Year'] = data['Year'].astype(int)\n",
    "#create a list of years from the dataframe to pass through our \"generate time frames\" function to create a list of all possible time frames - need this here for later\n",
    "years = list(data['Year'].unique().astype(int))\n",
    "time_frames = generate_time_frames(years)"
   ]
  },
  {
   "cell_type": "code",
   "execution_count": 14,
   "id": "46f6643a",
   "metadata": {},
   "outputs": [
    {
     "data": {
      "text/html": [
       "<div>\n",
       "<style scoped>\n",
       "    .dataframe tbody tr th:only-of-type {\n",
       "        vertical-align: middle;\n",
       "    }\n",
       "\n",
       "    .dataframe tbody tr th {\n",
       "        vertical-align: top;\n",
       "    }\n",
       "\n",
       "    .dataframe thead th {\n",
       "        text-align: right;\n",
       "    }\n",
       "</style>\n",
       "<table border=\"1\" class=\"dataframe\">\n",
       "  <thead>\n",
       "    <tr style=\"text-align: right;\">\n",
       "      <th></th>\n",
       "      <th>NAME</th>\n",
       "      <th>Year</th>\n",
       "      <th>Average Rent</th>\n",
       "    </tr>\n",
       "  </thead>\n",
       "  <tbody>\n",
       "    <tr>\n",
       "      <th>0</th>\n",
       "      <td>Nashville-Davidson metropolitan government (ba...</td>\n",
       "      <td>2015</td>\n",
       "      <td>1227.738078</td>\n",
       "    </tr>\n",
       "    <tr>\n",
       "      <th>1</th>\n",
       "      <td>Murfreesboro city, Tennessee</td>\n",
       "      <td>2015</td>\n",
       "      <td>1087.638958</td>\n",
       "    </tr>\n",
       "    <tr>\n",
       "      <th>2</th>\n",
       "      <td>Clarksville city, Tennessee</td>\n",
       "      <td>2015</td>\n",
       "      <td>874.486012</td>\n",
       "    </tr>\n",
       "    <tr>\n",
       "      <th>3</th>\n",
       "      <td>Franklin city, Kentucky</td>\n",
       "      <td>2015</td>\n",
       "      <td>1383.719940</td>\n",
       "    </tr>\n",
       "    <tr>\n",
       "      <th>4</th>\n",
       "      <td>Hendersonville city, Tennessee</td>\n",
       "      <td>2015</td>\n",
       "      <td>NaN</td>\n",
       "    </tr>\n",
       "  </tbody>\n",
       "</table>\n",
       "</div>"
      ],
      "text/plain": [
       "                                                NAME  Year  Average Rent\n",
       "0  Nashville-Davidson metropolitan government (ba...  2015   1227.738078\n",
       "1                       Murfreesboro city, Tennessee  2015   1087.638958\n",
       "2                        Clarksville city, Tennessee  2015    874.486012\n",
       "3                            Franklin city, Kentucky  2015   1383.719940\n",
       "4                     Hendersonville city, Tennessee  2015           NaN"
      ]
     },
     "execution_count": 14,
     "metadata": {},
     "output_type": "execute_result"
    }
   ],
   "source": [
    "data.head()"
   ]
  },
  {
   "cell_type": "code",
   "execution_count": 15,
   "id": "512a528d",
   "metadata": {},
   "outputs": [
    {
     "data": {
      "text/html": [
       "<div>\n",
       "<style scoped>\n",
       "    .dataframe tbody tr th:only-of-type {\n",
       "        vertical-align: middle;\n",
       "    }\n",
       "\n",
       "    .dataframe tbody tr th {\n",
       "        vertical-align: top;\n",
       "    }\n",
       "\n",
       "    .dataframe thead tr th {\n",
       "        text-align: left;\n",
       "    }\n",
       "\n",
       "    .dataframe thead tr:last-of-type th {\n",
       "        text-align: right;\n",
       "    }\n",
       "</style>\n",
       "<table border=\"1\" class=\"dataframe\">\n",
       "  <thead>\n",
       "    <tr>\n",
       "      <th></th>\n",
       "      <th colspan=\"10\" halign=\"left\">Average Rent</th>\n",
       "    </tr>\n",
       "    <tr>\n",
       "      <th>Year</th>\n",
       "      <th>2015</th>\n",
       "      <th>2016</th>\n",
       "      <th>2017</th>\n",
       "      <th>2018</th>\n",
       "      <th>2019</th>\n",
       "      <th>2020</th>\n",
       "      <th>2021</th>\n",
       "      <th>2022</th>\n",
       "      <th>2023</th>\n",
       "      <th>2024</th>\n",
       "    </tr>\n",
       "    <tr>\n",
       "      <th>NAME</th>\n",
       "      <th></th>\n",
       "      <th></th>\n",
       "      <th></th>\n",
       "      <th></th>\n",
       "      <th></th>\n",
       "      <th></th>\n",
       "      <th></th>\n",
       "      <th></th>\n",
       "      <th></th>\n",
       "      <th></th>\n",
       "    </tr>\n",
       "  </thead>\n",
       "  <tbody>\n",
       "    <tr>\n",
       "      <th>Ashland City town, Tennessee</th>\n",
       "      <td>NaN</td>\n",
       "      <td>NaN</td>\n",
       "      <td>NaN</td>\n",
       "      <td>NaN</td>\n",
       "      <td>NaN</td>\n",
       "      <td>NaN</td>\n",
       "      <td>NaN</td>\n",
       "      <td>1610.256263</td>\n",
       "      <td>1636.614782</td>\n",
       "      <td>1661.483838</td>\n",
       "    </tr>\n",
       "    <tr>\n",
       "      <th>Brentwood city, Tennessee</th>\n",
       "      <td>NaN</td>\n",
       "      <td>NaN</td>\n",
       "      <td>NaN</td>\n",
       "      <td>NaN</td>\n",
       "      <td>NaN</td>\n",
       "      <td>NaN</td>\n",
       "      <td>NaN</td>\n",
       "      <td>2480.429087</td>\n",
       "      <td>2550.068724</td>\n",
       "      <td>2619.201388</td>\n",
       "    </tr>\n",
       "  </tbody>\n",
       "</table>\n",
       "</div>"
      ],
      "text/plain": [
       "                             Average Rent                                                                     \n",
       "Year                                 2015 2016 2017 2018 2019 2020 2021         2022         2023         2024\n",
       "NAME                                                                                                          \n",
       "Ashland City town, Tennessee          NaN  NaN  NaN  NaN  NaN  NaN  NaN  1610.256263  1636.614782  1661.483838\n",
       "Brentwood city, Tennessee             NaN  NaN  NaN  NaN  NaN  NaN  NaN  2480.429087  2550.068724  2619.201388"
      ]
     },
     "execution_count": 15,
     "metadata": {},
     "output_type": "execute_result"
    }
   ],
   "source": [
    "#create a multilevel column header with year and placeholder for time frames\n",
    "#pivot the table and create a multiindex of year and column header\n",
    "cols = list(data.columns)\n",
    "cols.remove('NAME')\n",
    "cols.remove('Year')\n",
    "df_pivot = data.pivot_table(index = 'NAME', columns = ['Year'], values = cols)\n",
    "df_pivot.head(2)"
   ]
  },
  {
   "cell_type": "code",
   "execution_count": 16,
   "id": "77992bef",
   "metadata": {},
   "outputs": [
    {
     "data": {
      "text/html": [
       "<div>\n",
       "<style scoped>\n",
       "    .dataframe tbody tr th:only-of-type {\n",
       "        vertical-align: middle;\n",
       "    }\n",
       "\n",
       "    .dataframe tbody tr th {\n",
       "        vertical-align: top;\n",
       "    }\n",
       "\n",
       "    .dataframe thead tr th {\n",
       "        text-align: left;\n",
       "    }\n",
       "\n",
       "    .dataframe thead tr:last-of-type th {\n",
       "        text-align: right;\n",
       "    }\n",
       "</style>\n",
       "<table border=\"1\" class=\"dataframe\">\n",
       "  <thead>\n",
       "    <tr>\n",
       "      <th></th>\n",
       "      <th colspan=\"10\" halign=\"left\">Average Rent</th>\n",
       "    </tr>\n",
       "    <tr>\n",
       "      <th></th>\n",
       "      <th>2015</th>\n",
       "      <th>2016</th>\n",
       "      <th>2017</th>\n",
       "      <th>2018</th>\n",
       "      <th>2019</th>\n",
       "      <th>2020</th>\n",
       "      <th>2021</th>\n",
       "      <th>2022</th>\n",
       "      <th>2023</th>\n",
       "      <th>2024</th>\n",
       "    </tr>\n",
       "    <tr>\n",
       "      <th></th>\n",
       "      <th>None</th>\n",
       "      <th>None</th>\n",
       "      <th>None</th>\n",
       "      <th>None</th>\n",
       "      <th>None</th>\n",
       "      <th>None</th>\n",
       "      <th>None</th>\n",
       "      <th>None</th>\n",
       "      <th>None</th>\n",
       "      <th>None</th>\n",
       "    </tr>\n",
       "    <tr>\n",
       "      <th>NAME</th>\n",
       "      <th></th>\n",
       "      <th></th>\n",
       "      <th></th>\n",
       "      <th></th>\n",
       "      <th></th>\n",
       "      <th></th>\n",
       "      <th></th>\n",
       "      <th></th>\n",
       "      <th></th>\n",
       "      <th></th>\n",
       "    </tr>\n",
       "  </thead>\n",
       "  <tbody>\n",
       "    <tr>\n",
       "      <th>Ashland City town, Tennessee</th>\n",
       "      <td>NaN</td>\n",
       "      <td>NaN</td>\n",
       "      <td>NaN</td>\n",
       "      <td>NaN</td>\n",
       "      <td>NaN</td>\n",
       "      <td>NaN</td>\n",
       "      <td>NaN</td>\n",
       "      <td>1610.256263</td>\n",
       "      <td>1636.614782</td>\n",
       "      <td>1661.483838</td>\n",
       "    </tr>\n",
       "    <tr>\n",
       "      <th>Brentwood city, Tennessee</th>\n",
       "      <td>NaN</td>\n",
       "      <td>NaN</td>\n",
       "      <td>NaN</td>\n",
       "      <td>NaN</td>\n",
       "      <td>NaN</td>\n",
       "      <td>NaN</td>\n",
       "      <td>NaN</td>\n",
       "      <td>2480.429087</td>\n",
       "      <td>2550.068724</td>\n",
       "      <td>2619.201388</td>\n",
       "    </tr>\n",
       "    <tr>\n",
       "      <th>Cheatham County, Tennessee</th>\n",
       "      <td>NaN</td>\n",
       "      <td>NaN</td>\n",
       "      <td>NaN</td>\n",
       "      <td>NaN</td>\n",
       "      <td>NaN</td>\n",
       "      <td>NaN</td>\n",
       "      <td>NaN</td>\n",
       "      <td>1644.778125</td>\n",
       "      <td>1696.617080</td>\n",
       "      <td>1738.619907</td>\n",
       "    </tr>\n",
       "  </tbody>\n",
       "</table>\n",
       "</div>"
      ],
      "text/plain": [
       "                             Average Rent                                                                     \n",
       "                                     2015 2016 2017 2018 2019 2020 2021         2022         2023         2024\n",
       "                                     None None None None None None None         None         None         None\n",
       "NAME                                                                                                          \n",
       "Ashland City town, Tennessee          NaN  NaN  NaN  NaN  NaN  NaN  NaN  1610.256263  1636.614782  1661.483838\n",
       "Brentwood city, Tennessee             NaN  NaN  NaN  NaN  NaN  NaN  NaN  2480.429087  2550.068724  2619.201388\n",
       "Cheatham County, Tennessee            NaN  NaN  NaN  NaN  NaN  NaN  NaN  1644.778125  1696.617080  1738.619907"
      ]
     },
     "execution_count": 16,
     "metadata": {},
     "output_type": "execute_result"
    }
   ],
   "source": [
    "#add a level to the multiindex to accomodate the time period metrics\n",
    "df_pivot.columns = pd.MultiIndex.from_tuples([(col[0], col[1], 'None') for col in df_pivot.columns])\n",
    "df_pivot.head(3)"
   ]
  },
  {
   "cell_type": "code",
   "execution_count": 17,
   "id": "59ad3721",
   "metadata": {},
   "outputs": [
    {
     "data": {
      "text/plain": [
       "['Average Rent']"
      ]
     },
     "execution_count": 17,
     "metadata": {},
     "output_type": "execute_result"
    }
   ],
   "source": [
    "#get a list of the varaibles to loop through by indexing into the first level only of the column headers\n",
    "first_level = df_pivot.columns.get_level_values(0).unique().tolist()\n",
    "first_level"
   ]
  },
  {
   "cell_type": "code",
   "execution_count": 18,
   "id": "0a3b3876",
   "metadata": {},
   "outputs": [],
   "source": [
    "#pass the dataframe, the list of variables, time frames, and years through the \"calculate change\" function\n",
    "data = calculate_changes(df_pivot, first_level, time_frames = time_frames, years = years)"
   ]
  },
  {
   "cell_type": "code",
   "execution_count": 19,
   "id": "4e83a20e",
   "metadata": {},
   "outputs": [],
   "source": [
    "data = data.stack([1, 1])\n",
    "data = data.reset_index(drop = False)\n",
    "data = data.rename(columns = {'level_1':'Year', 'level_2':'Time Frame'})"
   ]
  },
  {
   "cell_type": "code",
   "execution_count": 20,
   "id": "32114101",
   "metadata": {},
   "outputs": [],
   "source": [
    "data['GEO_ID'] = data['NAME'].map(geotogeoid)\n",
    "data['Source'] = 'Zillow'"
   ]
  },
  {
   "cell_type": "code",
   "execution_count": 21,
   "id": "5f2a9836",
   "metadata": {},
   "outputs": [
    {
     "data": {
      "text/html": [
       "<div>\n",
       "<style scoped>\n",
       "    .dataframe tbody tr th:only-of-type {\n",
       "        vertical-align: middle;\n",
       "    }\n",
       "\n",
       "    .dataframe tbody tr th {\n",
       "        vertical-align: top;\n",
       "    }\n",
       "\n",
       "    .dataframe thead th {\n",
       "        text-align: right;\n",
       "    }\n",
       "</style>\n",
       "<table border=\"1\" class=\"dataframe\">\n",
       "  <thead>\n",
       "    <tr style=\"text-align: right;\">\n",
       "      <th></th>\n",
       "      <th>NAME</th>\n",
       "      <th>Year</th>\n",
       "      <th>Time Frame</th>\n",
       "      <th>Average Rent</th>\n",
       "      <th>Average Rent % Change</th>\n",
       "      <th>Average Rent Change</th>\n",
       "      <th>GEO_ID</th>\n",
       "      <th>Source</th>\n",
       "    </tr>\n",
       "  </thead>\n",
       "  <tbody>\n",
       "    <tr>\n",
       "      <th>0</th>\n",
       "      <td>Ashland City town, Tennessee</td>\n",
       "      <td>2022</td>\n",
       "      <td>None</td>\n",
       "      <td>1610.256263</td>\n",
       "      <td>NaN</td>\n",
       "      <td>NaN</td>\n",
       "      <td>1600000US4702180</td>\n",
       "      <td>Zillow</td>\n",
       "    </tr>\n",
       "    <tr>\n",
       "      <th>1</th>\n",
       "      <td>Ashland City town, Tennessee</td>\n",
       "      <td>2023</td>\n",
       "      <td>None</td>\n",
       "      <td>1636.614782</td>\n",
       "      <td>NaN</td>\n",
       "      <td>NaN</td>\n",
       "      <td>1600000US4702180</td>\n",
       "      <td>Zillow</td>\n",
       "    </tr>\n",
       "    <tr>\n",
       "      <th>2</th>\n",
       "      <td>Ashland City town, Tennessee</td>\n",
       "      <td>2024</td>\n",
       "      <td>None</td>\n",
       "      <td>1661.483838</td>\n",
       "      <td>NaN</td>\n",
       "      <td>NaN</td>\n",
       "      <td>1600000US4702180</td>\n",
       "      <td>Zillow</td>\n",
       "    </tr>\n",
       "    <tr>\n",
       "      <th>3</th>\n",
       "      <td>Ashland City town, Tennessee</td>\n",
       "      <td>None</td>\n",
       "      <td>2022-2023</td>\n",
       "      <td>NaN</td>\n",
       "      <td>1.636915</td>\n",
       "      <td>26.358518</td>\n",
       "      <td>1600000US4702180</td>\n",
       "      <td>Zillow</td>\n",
       "    </tr>\n",
       "    <tr>\n",
       "      <th>4</th>\n",
       "      <td>Ashland City town, Tennessee</td>\n",
       "      <td>None</td>\n",
       "      <td>2022-2024</td>\n",
       "      <td>NaN</td>\n",
       "      <td>3.181331</td>\n",
       "      <td>51.227575</td>\n",
       "      <td>1600000US4702180</td>\n",
       "      <td>Zillow</td>\n",
       "    </tr>\n",
       "  </tbody>\n",
       "</table>\n",
       "</div>"
      ],
      "text/plain": [
       "                           NAME  Year Time Frame  Average Rent  Average Rent % Change  Average Rent Change            GEO_ID  Source\n",
       "0  Ashland City town, Tennessee  2022       None   1610.256263                    NaN                  NaN  1600000US4702180  Zillow\n",
       "1  Ashland City town, Tennessee  2023       None   1636.614782                    NaN                  NaN  1600000US4702180  Zillow\n",
       "2  Ashland City town, Tennessee  2024       None   1661.483838                    NaN                  NaN  1600000US4702180  Zillow\n",
       "3  Ashland City town, Tennessee  None  2022-2023           NaN               1.636915            26.358518  1600000US4702180  Zillow\n",
       "4  Ashland City town, Tennessee  None  2022-2024           NaN               3.181331            51.227575  1600000US4702180  Zillow"
      ]
     },
     "execution_count": 21,
     "metadata": {},
     "output_type": "execute_result"
    }
   ],
   "source": [
    "#final check\n",
    "data.head()"
   ]
  },
  {
   "cell_type": "code",
   "execution_count": 22,
   "id": "6ba013c4",
   "metadata": {},
   "outputs": [
    {
     "data": {
      "text/plain": [
       "array(['Ashland City town, Tennessee', 'Brentwood city, Tennessee',\n",
       "       'Cheatham County, Tennessee', 'Clarksville city, Tennessee',\n",
       "       'Columbia city, Tennessee', 'Davidson County, Tennessee',\n",
       "       'Dickson County, Tennessee', 'Franklin city, Kentucky',\n",
       "       'Gallatin city, Tennessee', 'Hendersonville city, Tennessee',\n",
       "       'La Vergne city, Tennessee', 'Lebanon city, Tennessee',\n",
       "       'Maury County, Tennessee', 'Montgomery County, Tennessee',\n",
       "       'Mount Juliet city, Tennessee', 'Murfreesboro city, Tennessee',\n",
       "       'Nashville-Davidson metropolitan government (balance), Tennessee',\n",
       "       'Nolensville town, Tennessee', 'Robertson County, Tennessee',\n",
       "       'Rutherford County, Tennessee', 'Smyrna town, Tennessee',\n",
       "       'Spring Hill city, Tennessee', 'Springfield city, Tennessee',\n",
       "       'Sumner County, Tennessee', 'Thompsons Station', 'United States',\n",
       "       'White House city, Tennessee', 'Williamson County, Tennessee',\n",
       "       'Wilson County, Tennessee'], dtype=object)"
      ]
     },
     "execution_count": 22,
     "metadata": {},
     "output_type": "execute_result"
    }
   ],
   "source": [
    "data['NAME'].unique()"
   ]
  },
  {
   "cell_type": "code",
   "execution_count": 23,
   "id": "0545b4d5",
   "metadata": {},
   "outputs": [
    {
     "name": "stdout",
     "output_type": "stream",
     "text": [
      "<class 'pandas.core.frame.DataFrame'>\n",
      "RangeIndex: 950 entries, 0 to 949\n",
      "Data columns (total 8 columns):\n",
      " #   Column                 Non-Null Count  Dtype  \n",
      "---  ------                 --------------  -----  \n",
      " 0   NAME                   950 non-null    object \n",
      " 1   Year                   950 non-null    object \n",
      " 2   Time Frame             950 non-null    object \n",
      " 3   Average Rent           199 non-null    float64\n",
      " 4   Average Rent % Change  751 non-null    float64\n",
      " 5   Average Rent Change    751 non-null    float64\n",
      " 6   GEO_ID                 894 non-null    object \n",
      " 7   Source                 950 non-null    object \n",
      "dtypes: float64(3), object(5)\n",
      "memory usage: 59.5+ KB\n"
     ]
    }
   ],
   "source": [
    "data.info()"
   ]
  },
  {
   "cell_type": "code",
   "execution_count": 24,
   "id": "225d5327",
   "metadata": {},
   "outputs": [
    {
     "data": {
      "text/plain": [
       "950"
      ]
     },
     "execution_count": 24,
     "metadata": {},
     "output_type": "execute_result"
    }
   ],
   "source": [
    "#export to the SQLite database as Zillow annual data\n",
    "conn = sq.connect('../Outputs/Zillow.db')\n",
    "data.to_sql('Annual_Rent', conn, if_exists = 'replace', index = False)"
   ]
  },
  {
   "cell_type": "code",
   "execution_count": null,
   "id": "ec3bcc91",
   "metadata": {},
   "outputs": [],
   "source": []
  }
 ],
 "metadata": {
  "kernelspec": {
   "display_name": "Python 3 (ipykernel)",
   "language": "python",
   "name": "python3"
  },
  "language_info": {
   "codemirror_mode": {
    "name": "ipython",
    "version": 3
   },
   "file_extension": ".py",
   "mimetype": "text/x-python",
   "name": "python",
   "nbconvert_exporter": "python",
   "pygments_lexer": "ipython3",
   "version": "3.11.5"
  }
 },
 "nbformat": 4,
 "nbformat_minor": 5
}
